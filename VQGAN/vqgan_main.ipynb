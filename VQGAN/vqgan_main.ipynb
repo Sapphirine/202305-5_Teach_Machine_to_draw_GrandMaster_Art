{
 "cells": [
  {
   "cell_type": "code",
   "execution_count": 18,
   "id": "a670ed7f-23d4-4d0c-925d-2f1e034f9e75",
   "metadata": {},
   "outputs": [],
   "source": [
    "import pandas as pd\n",
    "\n",
    "d=pd.read_csv('metrics.csv')"
   ]
  },
  {
   "cell_type": "code",
   "execution_count": 20,
   "id": "0a029fbc-3acb-4f61-a8b8-d8bdb2185f6d",
   "metadata": {},
   "outputs": [
    {
     "data": {
      "text/plain": [
       "Index(['val/rec_loss_step/epoch_0', 'val/aeloss_step/epoch_0', 'created_at',\n",
       "       'train/aeloss_step', 'train/total_loss_step', 'train/quant_loss_step',\n",
       "       'train/nll_loss_step', 'train/rec_loss_step', 'train/p_loss_step',\n",
       "       'train/d_weight_step',\n",
       "       ...\n",
       "       'val/rec_loss_step/epoch_126', 'val/aeloss_step/epoch_126',\n",
       "       'val/rec_loss_step/epoch_127', 'val/aeloss_step/epoch_127',\n",
       "       'val/rec_loss_step/epoch_128', 'val/aeloss_step/epoch_128',\n",
       "       'val/rec_loss_step/epoch_129', 'val/aeloss_step/epoch_129',\n",
       "       'val/rec_loss_step/epoch_130', 'val/aeloss_step/epoch_130'],\n",
       "      dtype='object', length=303)"
      ]
     },
     "execution_count": 20,
     "metadata": {},
     "output_type": "execute_result"
    }
   ],
   "source": [
    "d.columns"
   ]
  },
  {
   "cell_type": "code",
   "execution_count": 23,
   "id": "87a41029-0e7d-44be-a999-f58a5fbaf0b1",
   "metadata": {},
   "outputs": [
    {
     "data": {
      "text/plain": [
       "Index(['val/rec_loss_step/epoch_0', 'val/aeloss_step/epoch_0', 'created_at',\n",
       "       'train/aeloss_step', 'train/total_loss_step', 'train/quant_loss_step',\n",
       "       'train/nll_loss_step', 'train/rec_loss_step', 'train/p_loss_step',\n",
       "       'train/d_weight_step', 'train/disc_factor_step', 'train/g_loss_step',\n",
       "       'train/discloss_step', 'train/disc_loss_step', 'train/logits_real_step',\n",
       "       'train/logits_fake_step', 'epoch', 'val/rec_loss_epoch', 'val/rec_loss',\n",
       "       'val/aeloss_epoch', 'val/total_loss', 'val/quant_loss', 'val/nll_loss',\n",
       "       'val/p_loss', 'val/d_weight', 'val/disc_factor', 'val/g_loss',\n",
       "       'val/disc_loss', 'val/logits_real', 'val/logits_fake',\n",
       "       'train/aeloss_epoch', 'train/total_loss_epoch',\n",
       "       'train/quant_loss_epoch', 'train/nll_loss_epoch',\n",
       "       'train/rec_loss_epoch', 'train/p_loss_epoch', 'train/d_weight_epoch',\n",
       "       'train/disc_factor_epoch', 'train/g_loss_epoch', 'train/discloss_epoch',\n",
       "       'train/disc_loss_epoch', 'train/logits_real_epoch',\n",
       "       'train/logits_fake_epoch', 'val/rec_loss_step/epoch_1',\n",
       "       'val/aeloss_step/epoch_1', 'val/rec_loss_step/epoch_2',\n",
       "       'val/aeloss_step/epoch_2', 'val/rec_loss_step/epoch_3',\n",
       "       'val/aeloss_step/epoch_3', 'val/rec_loss_step/epoch_4'],\n",
       "      dtype='object')"
      ]
     },
     "execution_count": 23,
     "metadata": {},
     "output_type": "execute_result"
    }
   ],
   "source": [
    "d.columns[:50]"
   ]
  },
  {
   "cell_type": "code",
   "execution_count": 48,
   "id": "ff881812-6a95-42e1-bb96-d14e67507bf1",
   "metadata": {},
   "outputs": [],
   "source": [
    "val_loss = d[~d['val/total_loss'].isna()][['created_at','val/total_loss']].sort_values('created_at')"
   ]
  },
  {
   "cell_type": "code",
   "execution_count": 49,
   "id": "c57fe6f5-9870-45ec-8706-a6123319c8a5",
   "metadata": {},
   "outputs": [
    {
     "data": {
      "text/html": [
       "<div>\n",
       "<style scoped>\n",
       "    .dataframe tbody tr th:only-of-type {\n",
       "        vertical-align: middle;\n",
       "    }\n",
       "\n",
       "    .dataframe tbody tr th {\n",
       "        vertical-align: top;\n",
       "    }\n",
       "\n",
       "    .dataframe thead th {\n",
       "        text-align: right;\n",
       "    }\n",
       "</style>\n",
       "<table border=\"1\" class=\"dataframe\">\n",
       "  <thead>\n",
       "    <tr style=\"text-align: right;\">\n",
       "      <th></th>\n",
       "      <th>created_at</th>\n",
       "      <th>val/total_loss</th>\n",
       "    </tr>\n",
       "  </thead>\n",
       "  <tbody>\n",
       "    <tr>\n",
       "      <th>402</th>\n",
       "      <td>2023-04-03 08:44:14.003209</td>\n",
       "      <td>1.409816</td>\n",
       "    </tr>\n",
       "    <tr>\n",
       "      <th>804</th>\n",
       "      <td>2023-04-03 09:10:21.703040</td>\n",
       "      <td>0.950043</td>\n",
       "    </tr>\n",
       "    <tr>\n",
       "      <th>1207</th>\n",
       "      <td>2023-04-03 09:36:41.232042</td>\n",
       "      <td>1.010532</td>\n",
       "    </tr>\n",
       "    <tr>\n",
       "      <th>1609</th>\n",
       "      <td>2023-04-03 10:03:03.176098</td>\n",
       "      <td>1.138551</td>\n",
       "    </tr>\n",
       "    <tr>\n",
       "      <th>2011</th>\n",
       "      <td>2023-04-03 10:29:30.258308</td>\n",
       "      <td>0.995376</td>\n",
       "    </tr>\n",
       "    <tr>\n",
       "      <th>...</th>\n",
       "      <td>...</td>\n",
       "      <td>...</td>\n",
       "    </tr>\n",
       "    <tr>\n",
       "      <th>50699</th>\n",
       "      <td>2023-04-07 01:49:41.521034</td>\n",
       "      <td>0.630981</td>\n",
       "    </tr>\n",
       "    <tr>\n",
       "      <th>51102</th>\n",
       "      <td>2023-04-07 03:01:46.750873</td>\n",
       "      <td>0.622520</td>\n",
       "    </tr>\n",
       "    <tr>\n",
       "      <th>51504</th>\n",
       "      <td>2023-04-07 04:14:21.125627</td>\n",
       "      <td>0.636967</td>\n",
       "    </tr>\n",
       "    <tr>\n",
       "      <th>51907</th>\n",
       "      <td>2023-04-07 05:27:46.733288</td>\n",
       "      <td>0.649121</td>\n",
       "    </tr>\n",
       "    <tr>\n",
       "      <th>52309</th>\n",
       "      <td>2023-04-07 06:41:37.537366</td>\n",
       "      <td>0.628905</td>\n",
       "    </tr>\n",
       "  </tbody>\n",
       "</table>\n",
       "<p>130 rows × 2 columns</p>\n",
       "</div>"
      ],
      "text/plain": [
       "                       created_at  val/total_loss\n",
       "402    2023-04-03 08:44:14.003209        1.409816\n",
       "804    2023-04-03 09:10:21.703040        0.950043\n",
       "1207   2023-04-03 09:36:41.232042        1.010532\n",
       "1609   2023-04-03 10:03:03.176098        1.138551\n",
       "2011   2023-04-03 10:29:30.258308        0.995376\n",
       "...                           ...             ...\n",
       "50699  2023-04-07 01:49:41.521034        0.630981\n",
       "51102  2023-04-07 03:01:46.750873        0.622520\n",
       "51504  2023-04-07 04:14:21.125627        0.636967\n",
       "51907  2023-04-07 05:27:46.733288        0.649121\n",
       "52309  2023-04-07 06:41:37.537366        0.628905\n",
       "\n",
       "[130 rows x 2 columns]"
      ]
     },
     "execution_count": 49,
     "metadata": {},
     "output_type": "execute_result"
    }
   ],
   "source": [
    "val_loss"
   ]
  },
  {
   "cell_type": "code",
   "execution_count": 50,
   "id": "8015647b-fa91-4012-ab14-9657a4d9e13d",
   "metadata": {},
   "outputs": [
    {
     "data": {
      "text/plain": [
       "[<matplotlib.lines.Line2D at 0x7f6d9bbe79a0>]"
      ]
     },
     "execution_count": 50,
     "metadata": {},
     "output_type": "execute_result"
    },
    {
     "data": {
      "image/png": "[encoded data removed]",
      "text/plain": [
       "<Figure size 432x288 with 1 Axes>"
      ]
     },
     "metadata": {
      "needs_background": "light"
     },
     "output_type": "display_data"
    }
   ],
   "source": [
    "import matplotlib.pyplot as plt\n",
    "\n",
    "plt.plot(range(len(val_loss['created_at'])), val_loss['val/total_loss'])"
   ]
  },
  {
   "cell_type": "code",
   "execution_count": null,
   "id": "dec6c89b-18ce-4f29-b5a6-e45015634c1f",
   "metadata": {},
   "outputs": [],
   "source": [
    "\n"
   ]
  },
  {
   "cell_type": "code",
   "execution_count": null,
   "id": "25a05213-0c91-4850-b0ad-30a15a2f2cda",
   "metadata": {},
   "outputs": [],
   "source": []
  }
 ],
 "metadata": {
  "kernelspec": {
   "display_name": "Python 3 (ipykernel)",
   "language": "python",
   "name": "python3"
  },
  "language_info": {
   "codemirror_mode": {
    "name": "ipython",
    "version": 3
   },
   "file_extension": ".py",
   "mimetype": "text/x-python",
   "name": "python",
   "nbconvert_exporter": "python",
   "pygments_lexer": "ipython3",
   "version": "3.9.13"
  }
 },
 "nbformat": 4,
 "nbformat_minor": 5
}
